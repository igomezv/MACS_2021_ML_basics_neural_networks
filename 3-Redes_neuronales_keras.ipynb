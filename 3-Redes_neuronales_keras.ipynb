{
 "cells": [
  {
   "cell_type": "markdown",
   "metadata": {},
   "source": [
    "# Introducción a las redes neuronales con ejemplos numéricos\n",
    "\n",
    "------------------------------------\n",
    "\n",
    "\n",
    "### Algunos tipos de redes neuronales\n",
    "Fuente: https://www.asimovinstitute.org/neural-network-zoo/\n",
    "<div>\n",
    "    <img src=\"https://www.asimovinstitute.org/wp-content/uploads/2019/04/NeuralNetworkZoo20042019.png\", width=\"500\">\n",
    "</div>\n",
    "\n",
    "## 1. Construyamos una red neuronal configurable con keras"
   ]
  },
  {
   "cell_type": "code",
   "execution_count": 1,
   "metadata": {},
   "outputs": [],
   "source": [
    "import tensorflow.keras as K\n",
    "import numpy as np\n",
    "import matplotlib.pyplot as plt\n",
    "from sklearn.preprocessing import StandardScaler\n",
    "import pandas as pd\n",
    "import seaborn as sns"
   ]
  },
  {
   "cell_type": "code",
   "execution_count": 132,
   "metadata": {},
   "outputs": [],
   "source": [
    "class neural_net:\n",
    "    def __init__(self, X, Y, topology, epochs=50, lr=0.0001, bs=4, early_tol=100, scale=False, accuracy=False):\n",
    "        self.topology = topology\n",
    "        self.epochs = epochs\n",
    "        self.lr = lr\n",
    "        self.bs = bs\n",
    "        self.early_tol = early_tol\n",
    "        self.scale = scale\n",
    "        self.accuracy = accuracy\n",
    "        \n",
    "        ntrain = int(0.8* len(X))\n",
    "        indx = [ntrain]\n",
    "        self.X_train, self.X_test = np.split(X, indx)\n",
    "        self.Y_train, self.Y_test = np.split(Y, indx)\n",
    "        \n",
    "        if self.scale:\n",
    "            self.scaler = StandardScaler()\n",
    "            try:\n",
    "                self.scaler.fit(X)\n",
    "                self.X_train = self.scaler.transform(self.X_train)\n",
    "                self.X_test = self.scaler.transform(self.X_test)\n",
    "            except:\n",
    "                self.scaler.fit(X.reshape(-1,1))\n",
    "                self.X_train = self.scaler.transform(self.X_train.reshape(-1,1))\n",
    "                self.X_test = self.scaler.transform(self.X_test.reshape(-1,1))\n",
    "\n",
    "            self.X_train = self.scaler.transform(self.X_train)\n",
    "            self.X_test = self.scaler.transform(self.X_test)\n",
    "        \n",
    "        self.model = self.model()\n",
    "        self.model.summary()\n",
    "        \n",
    "    def model(self):\n",
    "        # Red neuronal\n",
    "        model = K.models.Sequential()\n",
    "        # Hidden layers\n",
    "\n",
    "        for i, nodes in enumerate(self.topology):\n",
    "            if i == 0:\n",
    "                model.add(K.layers.Dense(self.topology[1], input_dim=self.topology[0], activation='relu'))\n",
    "            elif i < len(self.topology)-2:\n",
    "                model.add(K.layers.Dense(self.topology[i+1], activation='relu'))\n",
    "            else:\n",
    "                model.add(K.layers.Dense(self.topology[i], activation='linear'))\n",
    "        optimizer = K.optimizers.Adam(learning_rate=0.0001)\n",
    "        if self.accuracy:\n",
    "                model.compile(optimizer=optimizer, loss='mean_squared_error', metric='accuracy')\n",
    "        else:\n",
    "            model.compile(optimizer=optimizer, loss='mean_squared_error')\n",
    "        \n",
    "        return model                    \n",
    "    \n",
    "    def train(self):\n",
    "        callbacks = [K.callbacks.EarlyStopping(monitor='val_loss', mode='min',\n",
    "                                               min_delta=0.0,\n",
    "                                               patience=self.early_tol,\n",
    "                                               restore_best_weights=True)]\n",
    "        print(\"Entrenando, por favor, espera...\")\n",
    "        self.history = self.model.fit(self.X_train,\n",
    "                                      self.Y_train,\n",
    "                                      validation_data=(self.X_test,\n",
    "                                                       self.Y_test),\n",
    "                                      epochs=self.epochs, batch_size=self.bs,\n",
    "                                      callbacks=callbacks, verbose=0)\n",
    "        print(\"¡Entrenamiento terminado!\")\n",
    "        return self.history\n",
    "    \n",
    "    def get_w_and_b(self, nlayer):\n",
    "        weights, biases = self.model.layers[nlayer].get_weights()\n",
    "        return weights, biases\n",
    "    \n",
    "    def predict(self, x):\n",
    "        if type(x) == type([1]):\n",
    "            x = np.array(x)\n",
    "        if type(x) == type(1):\n",
    "            x = np.array([x])\n",
    "        if self.scale:\n",
    "            try:\n",
    "                x = self.scaler.transform(x)\n",
    "            except:\n",
    "                x = self.scaler.transform(x.reshape(-1,1))\n",
    "        return self.model.predict(x)\n",
    "        \n",
    "    def plot(self):\n",
    "        plt.plot(self.history.history['loss'], label='training set')\n",
    "        plt.plot(self.history.history['val_loss'], label='validation set')\n",
    "        mse = np.min(self.history.history['val_loss'])\n",
    "        plt.title('MSE: {} Uncertainty: {}'.format(mse, np.sqrt(mse)))\n",
    "        plt.ylabel('loss function')\n",
    "        plt.xlabel('epoch')\n",
    "        plt.legend(['train', 'val'], loc='upper left')\n",
    "        plt.show()\n",
    "        "
   ]
  },
  {
   "cell_type": "markdown",
   "metadata": {},
   "source": [
    "## 2. Ejemplos numéricos\n",
    "\n",
    "### 2.1 Ejemplo 1: Aprendiendo funciones\n",
    "\n",
    "#### Analicemos si una red neuronal puede aprender las siguientes tres funciones:\n",
    "\n",
    "* $line(x) = 2x+3$\n",
    "* $quadratic(x) = x^2 +2$\n",
    "* $quadtres(x_1,x_2,x_3) = x_1^2 + 2x_2 + x_3$"
   ]
  },
  {
   "cell_type": "code",
   "execution_count": 3,
   "metadata": {},
   "outputs": [],
   "source": [
    "def line(x):\n",
    "    return 2*x + 3 + 0.05 * np.random.rand()\n",
    "\n",
    "def quadratic(x):\n",
    "    return x**2 + 2 + 0.001 * np.random.rand()\n",
    "\n",
    "def quadtres(x):\n",
    "    y = np.zeros(len(x))\n",
    "    for i in range(len(x)):\n",
    "        y[i] = x[i, 0]**2 + 2*x[i, 1] + x[i, 2]\n",
    "    return y"
   ]
  },
  {
   "cell_type": "code",
   "execution_count": 4,
   "metadata": {},
   "outputs": [
    {
     "data": {
      "text/html": [
       "<div>\n",
       "<style scoped>\n",
       "    .dataframe tbody tr th:only-of-type {\n",
       "        vertical-align: middle;\n",
       "    }\n",
       "\n",
       "    .dataframe tbody tr th {\n",
       "        vertical-align: top;\n",
       "    }\n",
       "\n",
       "    .dataframe thead th {\n",
       "        text-align: right;\n",
       "    }\n",
       "</style>\n",
       "<table border=\"1\" class=\"dataframe\">\n",
       "  <thead>\n",
       "    <tr style=\"text-align: right;\">\n",
       "      <th></th>\n",
       "      <th>x</th>\n",
       "      <th>y</th>\n",
       "    </tr>\n",
       "  </thead>\n",
       "  <tbody>\n",
       "    <tr>\n",
       "      <th>0</th>\n",
       "      <td>0.954362</td>\n",
       "      <td>2.911201</td>\n",
       "    </tr>\n",
       "    <tr>\n",
       "      <th>1</th>\n",
       "      <td>0.948459</td>\n",
       "      <td>2.899967</td>\n",
       "    </tr>\n",
       "    <tr>\n",
       "      <th>2</th>\n",
       "      <td>0.308998</td>\n",
       "      <td>2.095873</td>\n",
       "    </tr>\n",
       "    <tr>\n",
       "      <th>3</th>\n",
       "      <td>0.530120</td>\n",
       "      <td>2.281421</td>\n",
       "    </tr>\n",
       "    <tr>\n",
       "      <th>4</th>\n",
       "      <td>0.429210</td>\n",
       "      <td>2.184615</td>\n",
       "    </tr>\n",
       "    <tr>\n",
       "      <th>5</th>\n",
       "      <td>0.609305</td>\n",
       "      <td>2.371646</td>\n",
       "    </tr>\n",
       "    <tr>\n",
       "      <th>6</th>\n",
       "      <td>0.067090</td>\n",
       "      <td>2.004895</td>\n",
       "    </tr>\n",
       "    <tr>\n",
       "      <th>7</th>\n",
       "      <td>0.128239</td>\n",
       "      <td>2.016839</td>\n",
       "    </tr>\n",
       "    <tr>\n",
       "      <th>8</th>\n",
       "      <td>0.511073</td>\n",
       "      <td>2.261590</td>\n",
       "    </tr>\n",
       "    <tr>\n",
       "      <th>9</th>\n",
       "      <td>0.579229</td>\n",
       "      <td>2.335899</td>\n",
       "    </tr>\n",
       "  </tbody>\n",
       "</table>\n",
       "</div>"
      ],
      "text/plain": [
       "          x         y\n",
       "0  0.954362  2.911201\n",
       "1  0.948459  2.899967\n",
       "2  0.308998  2.095873\n",
       "3  0.530120  2.281421\n",
       "4  0.429210  2.184615\n",
       "5  0.609305  2.371646\n",
       "6  0.067090  2.004895\n",
       "7  0.128239  2.016839\n",
       "8  0.511073  2.261590\n",
       "9  0.579229  2.335899"
      ]
     },
     "execution_count": 4,
     "metadata": {},
     "output_type": "execute_result"
    }
   ],
   "source": [
    "# Descomentar función para generar datos\n",
    "# fn = line\n",
    "fn = quadratic\n",
    "# fn = quadtres\n",
    "\n",
    "# Seleccionar número de puntos para el dataset\n",
    "npoints = 100\n",
    "\n",
    "# Generar X\n",
    "## para line y quadratic\n",
    "X = np.random.rand(npoints)\n",
    "## para quadtres\n",
    "# X = np.random.rand(npoints, 3)\n",
    "\n",
    "# Generar Y\n",
    "Y = fn(X)\n",
    "\n",
    "# Ver tabla de datos\n",
    "## para line y quadratic\n",
    "data =pd.DataFrame(zip(X,Y), columns=['x', 'y'])\n",
    "## para quadtres\n",
    "# data =pd.DataFrame(zip(X[:,0], X[:,1], X[:,2], Y), columns=['$x_1$', '$x_2$', '$x_3$', 'y'])\n",
    "data.head(10)"
   ]
  },
  {
   "cell_type": "code",
   "execution_count": 5,
   "metadata": {},
   "outputs": [
    {
     "name": "stdout",
     "output_type": "stream",
     "text": [
      "Model: \"sequential\"\n",
      "_________________________________________________________________\n",
      "Layer (type)                 Output Shape              Param #   \n",
      "=================================================================\n",
      "dense (Dense)                (None, 100)               200       \n",
      "_________________________________________________________________\n",
      "dense_1 (Dense)              (None, 100)               10100     \n",
      "_________________________________________________________________\n",
      "dense_2 (Dense)              (None, 100)               10100     \n",
      "_________________________________________________________________\n",
      "dense_3 (Dense)              (None, 1)                 101       \n",
      "=================================================================\n",
      "Total params: 20,501\n",
      "Trainable params: 20,501\n",
      "Non-trainable params: 0\n",
      "_________________________________________________________________\n"
     ]
    }
   ],
   "source": [
    "network = neural_net(X, Y, [1, 100, 100, 1], epochs=100, bs=16, lr=0.01, scale=True)"
   ]
  },
  {
   "cell_type": "code",
   "execution_count": 6,
   "metadata": {},
   "outputs": [
    {
     "name": "stdout",
     "output_type": "stream",
     "text": [
      "Entrenando, por favor, espera...\n",
      "¡Entrenamiento terminado!\n"
     ]
    },
    {
     "data": {
      "text/plain": [
       "<tensorflow.python.keras.callbacks.History at 0x7fb72c570e80>"
      ]
     },
     "execution_count": 6,
     "metadata": {},
     "output_type": "execute_result"
    }
   ],
   "source": [
    "network.train()"
   ]
  },
  {
   "cell_type": "code",
   "execution_count": 7,
   "metadata": {},
   "outputs": [
    {
     "name": "stdout",
     "output_type": "stream",
     "text": [
      "1 100\n",
      "[[ 1.68512672e-01 -2.11673498e-01 -1.88035205e-01 -1.45221382e-01\n",
      "  -1.02610655e-01  1.48698241e-01 -9.11347792e-02 -5.55440299e-02\n",
      "   2.20057726e-01  1.26364559e-01 -5.16564138e-02  1.57804936e-01\n",
      "  -2.18919635e-01 -1.92800224e-01 -2.17026249e-01 -2.10127443e-01\n",
      "   1.56671539e-01 -7.94129539e-03 -1.94725826e-01  1.25404119e-01\n",
      "  -2.13756800e-01  1.25340044e-01  2.39688814e-01  3.09917785e-04\n",
      "  -1.39590591e-01  2.84811743e-02 -3.41268815e-02  2.01865703e-01\n",
      "   3.22094969e-02 -9.79541335e-03 -8.25578943e-02 -2.07908630e-01\n",
      "  -5.20828441e-02 -1.96187362e-01 -1.74394116e-01 -1.12851441e-01\n",
      "   2.16353878e-01  5.63447066e-02  1.61013052e-01  1.59444590e-03\n",
      "  -4.59327027e-02  8.44492391e-02  1.54921860e-01  7.24056140e-02\n",
      "  -8.58320482e-03 -5.79933673e-02 -1.72178924e-01  2.37660095e-01\n",
      "   2.33060736e-02  2.33273655e-01  2.85583530e-02 -1.48919076e-01\n",
      "  -1.41204625e-01  7.54846931e-02 -2.39779875e-01  1.79639801e-01\n",
      "  -2.32562676e-01  1.92471832e-01  5.25119640e-02 -2.40145311e-01\n",
      "   1.52603626e-01 -4.44261543e-02 -1.95971817e-01 -1.81382611e-01\n",
      "   1.10824652e-01 -1.33897021e-01 -7.59938881e-02  1.23151720e-01\n",
      "  -1.23231024e-01 -6.53717667e-02  6.04103878e-02  3.72556278e-05\n",
      "  -1.71697900e-01 -1.98671371e-01 -2.12578565e-01  1.52247548e-01\n",
      "  -1.18733689e-01  2.03890830e-01  1.28107890e-01 -2.17703938e-01\n",
      "  -2.37153769e-01  5.59817143e-02 -9.10971835e-02 -7.39287063e-02\n",
      "  -1.60097256e-01  1.76274031e-01 -1.77267358e-01 -1.85640410e-01\n",
      "  -2.00361490e-01 -1.19581357e-01 -6.51471168e-02  1.96274579e-01\n",
      "   2.08591983e-01  2.20036983e-01  1.14662666e-02 -1.51556313e-01\n",
      "   1.49124026e-01 -4.85410318e-02 -1.96176767e-01 -4.73140590e-02]]\n"
     ]
    }
   ],
   "source": [
    "w, b = network.get_w_and_b(nlayer=0)\n",
    "print(len(w), len(b))\n",
    "print(w)"
   ]
  },
  {
   "cell_type": "code",
   "execution_count": 8,
   "metadata": {},
   "outputs": [
    {
     "data": {
      "image/png": "[encoded data removed]",
      "text/plain": [
       "<Figure size 432x288 with 1 Axes>"
      ]
     },
     "metadata": {
      "needs_background": "light"
     },
     "output_type": "display_data"
    }
   ],
   "source": [
    "network.plot()"
   ]
  },
  {
   "cell_type": "code",
   "execution_count": 9,
   "metadata": {},
   "outputs": [
    {
     "name": "stdout",
     "output_type": "stream",
     "text": [
      "Valor real: 2.4900472458833844\n",
      "Predicción: 1.4409704208374023\n"
     ]
    }
   ],
   "source": [
    "# new_vector = np.array([0.7, 0.5, 0.6]).reshape(1,3)\n",
    "new_vector = np.array([0.7])\n",
    "prediction = network.predict(new_vector)\n",
    "\n",
    "\n",
    "print(\"Valor real: {}\".format(float(fn(new_vector))))\n",
    "print(\"Predicción: {}\".format(float(prediction)))"
   ]
  },
  {
   "cell_type": "code",
   "execution_count": 10,
   "metadata": {},
   "outputs": [],
   "source": [
    "from time import time\n",
    "from scipy import integrate"
   ]
  },
  {
   "cell_type": "markdown",
   "metadata": {},
   "source": [
    "### 2.2 Ejemplo 2: Ahorrando tiempo de cómputo\n",
    "\n",
    "#### Experimento con alguna integral doble arbitraria con parámetros a, b:\n",
    "\n",
    "$\\int^1_0 \\int^1_0 \\sqrt{x^2 + y^2+ a^2} + b\\frac{xy}{2}dx dy$\n",
    "\n",
    "#### Analicemos si una red neuronal puede aprender a calcular esta integral y ahorrar tiempo cuando se requiere evaluar múltiples veces."
   ]
  },
  {
   "cell_type": "code",
   "execution_count": 11,
   "metadata": {},
   "outputs": [
    {
     "name": "stdout",
     "output_type": "stream",
     "text": [
      "0.7985035067551794\n",
      "Tiempo: 0.0009 segundos\n"
     ]
    }
   ],
   "source": [
    "def f(x, y, a, b):\n",
    "    return np.sqrt(x**2 + y**2 + a**2) + b*0.5*x*y \n",
    "\n",
    "t1 = time()\n",
    "i = integrate.dblquad(f, 0, 1, lambda x: 0, lambda x: 1, args=([0.1, 0.2]))\n",
    "print(i[0])\n",
    "print(\"Tiempo: {:.4f} segundos\".format(time()-t1))"
   ]
  },
  {
   "cell_type": "code",
   "execution_count": 12,
   "metadata": {},
   "outputs": [
    {
     "name": "stdout",
     "output_type": "stream",
     "text": [
      "Tiempo: 9.85658 segundos\n"
     ]
    },
    {
     "data": {
      "text/html": [
       "<div>\n",
       "<style scoped>\n",
       "    .dataframe tbody tr th:only-of-type {\n",
       "        vertical-align: middle;\n",
       "    }\n",
       "\n",
       "    .dataframe tbody tr th {\n",
       "        vertical-align: top;\n",
       "    }\n",
       "\n",
       "    .dataframe thead th {\n",
       "        text-align: right;\n",
       "    }\n",
       "</style>\n",
       "<table border=\"1\" class=\"dataframe\">\n",
       "  <thead>\n",
       "    <tr style=\"text-align: right;\">\n",
       "      <th></th>\n",
       "      <th>a</th>\n",
       "      <th>b</th>\n",
       "      <th>integral</th>\n",
       "    </tr>\n",
       "  </thead>\n",
       "  <tbody>\n",
       "    <tr>\n",
       "      <th>0</th>\n",
       "      <td>0.853947</td>\n",
       "      <td>0.234974</td>\n",
       "      <td>1.197429</td>\n",
       "    </tr>\n",
       "    <tr>\n",
       "      <th>1</th>\n",
       "      <td>0.014361</td>\n",
       "      <td>0.060528</td>\n",
       "      <td>0.772942</td>\n",
       "    </tr>\n",
       "    <tr>\n",
       "      <th>2</th>\n",
       "      <td>0.230334</td>\n",
       "      <td>0.409865</td>\n",
       "      <td>0.857284</td>\n",
       "    </tr>\n",
       "    <tr>\n",
       "      <th>3</th>\n",
       "      <td>0.159055</td>\n",
       "      <td>0.017619</td>\n",
       "      <td>0.787701</td>\n",
       "    </tr>\n",
       "    <tr>\n",
       "      <th>4</th>\n",
       "      <td>0.643821</td>\n",
       "      <td>0.582829</td>\n",
       "      <td>1.092475</td>\n",
       "    </tr>\n",
       "  </tbody>\n",
       "</table>\n",
       "</div>"
      ],
      "text/plain": [
       "          a         b  integral\n",
       "0  0.853947  0.234974  1.197429\n",
       "1  0.014361  0.060528  0.772942\n",
       "2  0.230334  0.409865  0.857284\n",
       "3  0.159055  0.017619  0.787701\n",
       "4  0.643821  0.582829  1.092475"
      ]
     },
     "execution_count": 12,
     "metadata": {},
     "output_type": "execute_result"
    }
   ],
   "source": [
    "npoints = 10000\n",
    "ab_points = np.random.rand(npoints, 2)\n",
    "integrals = np.zeros(npoints)\n",
    "\n",
    "t1 = time()\n",
    "for i in range(npoints):\n",
    "    a = ab_points[i, 0]\n",
    "    b = ab_points[i, 1]\n",
    "    integ, _ = integrate.dblquad(f, 0, 1, lambda x: 0, lambda x: 1, args=([a, b]))\n",
    "    integrals[i] = integ\n",
    "t = time()-t1\n",
    "\n",
    "print(\"Tiempo: {:.5f} segundos\".format(t))\n",
    "h = pd.DataFrame(zip(ab_points[:,0], ab_points[:,1], integrals), columns=['a', 'b', 'integral'])\n",
    "h.head()"
   ]
  },
  {
   "cell_type": "code",
   "execution_count": 13,
   "metadata": {},
   "outputs": [
    {
     "name": "stdout",
     "output_type": "stream",
     "text": [
      "Model: \"sequential_1\"\n",
      "_________________________________________________________________\n",
      "Layer (type)                 Output Shape              Param #   \n",
      "=================================================================\n",
      "dense_4 (Dense)              (None, 100)               300       \n",
      "_________________________________________________________________\n",
      "dense_5 (Dense)              (None, 100)               10100     \n",
      "_________________________________________________________________\n",
      "dense_6 (Dense)              (None, 1)                 101       \n",
      "=================================================================\n",
      "Total params: 10,501\n",
      "Trainable params: 10,501\n",
      "Non-trainable params: 0\n",
      "_________________________________________________________________\n"
     ]
    }
   ],
   "source": [
    "network = neural_net(ab_points, integrals, [2, 100, 1], epochs=100, bs=16, lr=0.01, scale=True)"
   ]
  },
  {
   "cell_type": "code",
   "execution_count": 14,
   "metadata": {},
   "outputs": [
    {
     "name": "stdout",
     "output_type": "stream",
     "text": [
      "Entrenando, por favor, espera...\n",
      "¡Entrenamiento terminado!\n"
     ]
    },
    {
     "data": {
      "text/plain": [
       "<tensorflow.python.keras.callbacks.History at 0x7fb7184918b0>"
      ]
     },
     "execution_count": 14,
     "metadata": {},
     "output_type": "execute_result"
    }
   ],
   "source": [
    "network.train()\n"
   ]
  },
  {
   "cell_type": "code",
   "execution_count": 15,
   "metadata": {},
   "outputs": [
    {
     "data": {
      "image/png": "[encoded data removed]",
      "text/plain": [
       "<Figure size 432x288 with 1 Axes>"
      ]
     },
     "metadata": {
      "needs_background": "light"
     },
     "output_type": "display_data"
    }
   ],
   "source": [
    "network.plot()"
   ]
  },
  {
   "cell_type": "code",
   "execution_count": 16,
   "metadata": {},
   "outputs": [
    {
     "name": "stdout",
     "output_type": "stream",
     "text": [
      "Tiempo: 0.09941 segundos\n",
      "(10000, 1)\n"
     ]
    },
    {
     "data": {
      "text/html": [
       "<div>\n",
       "<style scoped>\n",
       "    .dataframe tbody tr th:only-of-type {\n",
       "        vertical-align: middle;\n",
       "    }\n",
       "\n",
       "    .dataframe tbody tr th {\n",
       "        vertical-align: top;\n",
       "    }\n",
       "\n",
       "    .dataframe thead th {\n",
       "        text-align: right;\n",
       "    }\n",
       "</style>\n",
       "<table border=\"1\" class=\"dataframe\">\n",
       "  <thead>\n",
       "    <tr style=\"text-align: right;\">\n",
       "      <th></th>\n",
       "      <th>a</th>\n",
       "      <th>b</th>\n",
       "      <th>integral</th>\n",
       "    </tr>\n",
       "  </thead>\n",
       "  <tbody>\n",
       "    <tr>\n",
       "      <th>0</th>\n",
       "      <td>0.827319</td>\n",
       "      <td>0.722169</td>\n",
       "      <td>[1.1780777]</td>\n",
       "    </tr>\n",
       "    <tr>\n",
       "      <th>1</th>\n",
       "      <td>0.747899</td>\n",
       "      <td>0.612733</td>\n",
       "      <td>[1.1577213]</td>\n",
       "    </tr>\n",
       "    <tr>\n",
       "      <th>2</th>\n",
       "      <td>0.581014</td>\n",
       "      <td>0.234043</td>\n",
       "      <td>[1.1117499]</td>\n",
       "    </tr>\n",
       "    <tr>\n",
       "      <th>3</th>\n",
       "      <td>0.053711</td>\n",
       "      <td>0.131803</td>\n",
       "      <td>[1.0088552]</td>\n",
       "    </tr>\n",
       "    <tr>\n",
       "      <th>4</th>\n",
       "      <td>0.085795</td>\n",
       "      <td>0.126832</td>\n",
       "      <td>[1.014258]</td>\n",
       "    </tr>\n",
       "  </tbody>\n",
       "</table>\n",
       "</div>"
      ],
      "text/plain": [
       "          a         b     integral\n",
       "0  0.827319  0.722169  [1.1780777]\n",
       "1  0.747899  0.612733  [1.1577213]\n",
       "2  0.581014  0.234043  [1.1117499]\n",
       "3  0.053711  0.131803  [1.0088552]\n",
       "4  0.085795  0.126832   [1.014258]"
      ]
     },
     "execution_count": 16,
     "metadata": {},
     "output_type": "execute_result"
    }
   ],
   "source": [
    "npoints = 10000\n",
    "ab_points = np.random.rand(npoints, 2)\n",
    "integrals = np.zeros(npoints)\n",
    "\n",
    "t1 = time()\n",
    "predictions = network.predict(ab_points)\n",
    "t = time()-t1\n",
    "print(\"Tiempo: {:.5f} segundos\".format(t))\n",
    "print(np.shape(predictions))\n",
    "h = pd.DataFrame(zip(ab_points[:,0], ab_points[:,1], predictions), columns=['a', 'b', 'integral'])\n",
    "h.head()"
   ]
  },
  {
   "cell_type": "code",
   "execution_count": 17,
   "metadata": {},
   "outputs": [
    {
     "name": "stdout",
     "output_type": "stream",
     "text": [
      "1.150683917251989\n"
     ]
    }
   ],
   "source": [
    "# Probemos un valor al azar\n",
    "a = 0.751548\n",
    "b = 0.458467\n",
    "integ, _ = integrate.dblquad(f, 0, 1, lambda x: 0, lambda x: 1, args=([a, b]))\n",
    "print(integ)"
   ]
  },
  {
   "cell_type": "markdown",
   "metadata": {},
   "source": [
    "### Ejercicio 5 (opcional)\n",
    "\n",
    "Intenta con otra función. Genera datos sintéticos a partir de su expresión analítica. Entrena la red neuronal con estos datos. Compara tiempos y qué tan parecidas son las predicciones de la red neuronal a los valores reales."
   ]
  },
  {
   "cell_type": "markdown",
   "metadata": {},
   "source": [
    "#### Este mecanismo se puede utilizar para aprender la función de likelihood, la cual se evalúa miles de veces, dentro de un proceso de inferencia Bayesiana.\n",
    "<div>\n",
    "    <img src=\"https://raw.githubusercontent.com/igomezv/neural_nets_utilities/master/Tutorial_Journal_Club/figures/ann.png\" width=\"500\">\n",
    "</div>\n",
    "\n",
    "<div>\n",
    "    <img src=\"https://raw.githubusercontent.com/igomezv/neural_nets_utilities/master/Tutorial_Journal_Club/figures/uamresults.png\" width=\"500\">\n",
    "</div>\n",
    "              \n",
    "              \n",
    "\n",
    "                                                                                                                                                                                                                         \n",
    "#### Referencia: [DOI: 10.1088/1742-6596/1723/1/012022](https://iopscience.iop.org/article/10.1088/1742-6596/1723/1/012022)           \n",
    "\n",
    "### 2. 3: Modelemos unos datos cosmológicos\n",
    "\n",
    "\n",
    "#### Utilicemos la compilación Union 2.1 para ver si la red neuronal puede  modelar sus datos y sus errores.\n",
    "\n",
    "#### Idea general:\n",
    "<div>\n",
    "<img src=\"https://raw.githubusercontent.com/igomezv/neural_nets_utilities/master/Tutorial_Journal_Club/figures/annHz.png\" width=\"300\"/>\n",
    "</div>\n",
    "\n",
    "#### Referencia: [arXiv:2104.00595](https://arxiv.org/abs/2104.00595)\n"
   ]
  },
  {
   "cell_type": "code",
   "execution_count": 18,
   "metadata": {},
   "outputs": [
    {
     "data": {
      "text/html": [
       "<div>\n",
       "<style scoped>\n",
       "    .dataframe tbody tr th:only-of-type {\n",
       "        vertical-align: middle;\n",
       "    }\n",
       "\n",
       "    .dataframe tbody tr th {\n",
       "        vertical-align: top;\n",
       "    }\n",
       "\n",
       "    .dataframe thead th {\n",
       "        text-align: right;\n",
       "    }\n",
       "</style>\n",
       "<table border=\"1\" class=\"dataframe\">\n",
       "  <thead>\n",
       "    <tr style=\"text-align: right;\">\n",
       "      <th></th>\n",
       "      <th>z</th>\n",
       "      <th>$D_L(z)$</th>\n",
       "      <th>error</th>\n",
       "    </tr>\n",
       "  </thead>\n",
       "  <tbody>\n",
       "    <tr>\n",
       "      <th>0</th>\n",
       "      <td>0.0150</td>\n",
       "      <td>61.659500</td>\n",
       "      <td>5.111145</td>\n",
       "    </tr>\n",
       "    <tr>\n",
       "      <th>1</th>\n",
       "      <td>0.0150</td>\n",
       "      <td>66.374307</td>\n",
       "      <td>6.418965</td>\n",
       "    </tr>\n",
       "    <tr>\n",
       "      <th>2</th>\n",
       "      <td>0.0150</td>\n",
       "      <td>67.920363</td>\n",
       "      <td>5.004557</td>\n",
       "    </tr>\n",
       "    <tr>\n",
       "      <th>3</th>\n",
       "      <td>0.0150</td>\n",
       "      <td>75.162289</td>\n",
       "      <td>7.614973</td>\n",
       "    </tr>\n",
       "    <tr>\n",
       "      <th>4</th>\n",
       "      <td>0.0151</td>\n",
       "      <td>80.537844</td>\n",
       "      <td>7.788700</td>\n",
       "    </tr>\n",
       "  </tbody>\n",
       "</table>\n",
       "</div>"
      ],
      "text/plain": [
       "        z   $D_L(z)$     error\n",
       "0  0.0150  61.659500  5.111145\n",
       "1  0.0150  66.374307  6.418965\n",
       "2  0.0150  67.920363  5.004557\n",
       "3  0.0150  75.162289  7.614973\n",
       "4  0.0151  80.537844  7.788700"
      ]
     },
     "execution_count": 18,
     "metadata": {},
     "output_type": "execute_result"
    }
   ],
   "source": [
    "file = 'https://raw.githubusercontent.com/igomezv/MACS_2021_neural_networks/main/data/Union2.1_DL.txt'\n",
    "data =pd.read_csv(file, sep=' ', names=['z','$D_L(z)$','error'])\n",
    "data.head()"
   ]
  },
  {
   "cell_type": "code",
   "execution_count": 19,
   "metadata": {},
   "outputs": [
    {
     "data": {
      "text/plain": [
       "<ErrorbarContainer object of 3 artists>"
      ]
     },
     "execution_count": 19,
     "metadata": {},
     "output_type": "execute_result"
    },
    {
     "data": {
      "image/png": "[encoded data removed]",
      "text/plain": [
       "<Figure size 432x288 with 1 Axes>"
      ]
     },
     "metadata": {
      "needs_background": "light"
     },
     "output_type": "display_data"
    }
   ],
   "source": [
    "plt.errorbar(data['z'], data['$D_L(z)$'], yerr = data['error'], c='g', fmt='.')"
   ]
  },
  {
   "cell_type": "code",
   "execution_count": 20,
   "metadata": {},
   "outputs": [
    {
     "name": "stdout",
     "output_type": "stream",
     "text": [
      "Model: \"sequential_2\"\n",
      "_________________________________________________________________\n",
      "Layer (type)                 Output Shape              Param #   \n",
      "=================================================================\n",
      "dense_7 (Dense)              (None, 50)                100       \n",
      "_________________________________________________________________\n",
      "dense_8 (Dense)              (None, 50)                2550      \n",
      "_________________________________________________________________\n",
      "dense_9 (Dense)              (None, 50)                2550      \n",
      "_________________________________________________________________\n",
      "dense_10 (Dense)             (None, 2)                 102       \n",
      "=================================================================\n",
      "Total params: 5,302\n",
      "Trainable params: 5,302\n",
      "Non-trainable params: 0\n",
      "_________________________________________________________________\n"
     ]
    }
   ],
   "source": [
    "X = data['z'].values\n",
    "Y = data[['$D_L(z)$', 'error']].values\n",
    "network = neural_net(X, Y, topology=[1, 50, 50, 2], scale=True)"
   ]
  },
  {
   "cell_type": "code",
   "execution_count": 21,
   "metadata": {},
   "outputs": [
    {
     "name": "stdout",
     "output_type": "stream",
     "text": [
      "Entrenando, por favor, espera...\n",
      "¡Entrenamiento terminado!\n"
     ]
    },
    {
     "data": {
      "image/png": "[encoded data removed]",
      "text/plain": [
       "<Figure size 432x288 with 1 Axes>"
      ]
     },
     "metadata": {
      "needs_background": "light"
     },
     "output_type": "display_data"
    }
   ],
   "source": [
    "network.train()\n",
    "network.plot()"
   ]
  },
  {
   "cell_type": "code",
   "execution_count": 22,
   "metadata": {},
   "outputs": [
    {
     "data": {
      "text/plain": [
       "<ErrorbarContainer object of 3 artists>"
      ]
     },
     "execution_count": 22,
     "metadata": {},
     "output_type": "execute_result"
    },
    {
     "data": {
      "image/png": "[encoded data removed]",
      "text/plain": [
       "<Figure size 432x288 with 1 Axes>"
      ]
     },
     "metadata": {
      "needs_background": "light"
     },
     "output_type": "display_data"
    }
   ],
   "source": [
    "fake_z = np.linspace(0, 2, 100)\n",
    "fake_dl = network.predict(fake_z)\n",
    "plt.errorbar(fake_z, fake_dl[:,0], yerr=fake_dl[:, 1], c='r')\n",
    "# plt.errorbar(data['z'], data['$D_L(z)$'], yerr = data['error'], c='g', fmt='.')"
   ]
  },
  {
   "cell_type": "markdown",
   "metadata": {},
   "source": [
    "### Debido a que la red neuronal no está bien ajustada el resultado no es preciso. \n",
    "\n",
    "### -> Ejercicio 6 (opcional):\n",
    "\n",
    "Utilizar diferentes configuraciones de numeros de paredes y nodos para que el modelo de la red neuronal se parezca más a los datos reales.\n"
   ]
  },
  {
   "cell_type": "markdown",
   "metadata": {},
   "source": [
    "## 4.4 Aproximando ecuaciones diferenciales"
   ]
  },
  {
   "cell_type": "code",
   "execution_count": 23,
   "metadata": {},
   "outputs": [],
   "source": [
    "def RHS(Omega_i, lna, gamma=0):\n",
    "    #x, y, z, H = Omega_i\n",
    "    x, y, z = Omega_i\n",
    "    pi = 3*x + 4*y\n",
    "    #return [x*(-3 + pi), y*(-4 + pi), z*pi, -0.5*H*pi]\n",
    "    return [x*(-3 + pi), y*(-4 + pi), z*pi]\n",
    "\n",
    "def EDO(t,Om):\n",
    "    #t,Or,Om,Ol=X\n",
    "    Or=0.0001\n",
    "    Ol=1-Or-Om\n",
    "    H0 = 70.\n",
    "    y0 = [Om, Or, Ol]\n",
    "    result = odeint(RHS, y0, t)\n",
    "    return result"
   ]
  },
  {
   "cell_type": "code",
   "execution_count": 24,
   "metadata": {},
   "outputs": [
    {
     "data": {
      "text/plain": [
       "((10000, 2), (10000, 3))"
      ]
     },
     "execution_count": 24,
     "metadata": {},
     "output_type": "execute_result"
    }
   ],
   "source": [
    "from scipy.integrate import odeint\n",
    "\n",
    "O_m=np.arange(0.1,1.1,0.01)\n",
    "t=np.linspace(0,-12,100)\n",
    "Y0=[]\n",
    "for i in O_m:\n",
    "    Y0.extend(EDO(t,i))\n",
    "Y0=np.array(Y0)\n",
    "\n",
    "X0=[]\n",
    "for Om in O_m:\n",
    "    for T in t:\n",
    "        X0.append([T,Om])\n",
    "X0=np.array(X0)\n",
    "#Dos paredes ocultas\n",
    "nodos=100\n",
    "split_size=0.8\n",
    "learning_rate=0.001\n",
    "epocas=100\n",
    "np.shape(X0), np.shape(Y0)"
   ]
  },
  {
   "cell_type": "code",
   "execution_count": 25,
   "metadata": {},
   "outputs": [
    {
     "name": "stdout",
     "output_type": "stream",
     "text": [
      "Model: \"sequential_3\"\n",
      "_________________________________________________________________\n",
      "Layer (type)                 Output Shape              Param #   \n",
      "=================================================================\n",
      "dense_11 (Dense)             (None, 100)               300       \n",
      "_________________________________________________________________\n",
      "dense_12 (Dense)             (None, 100)               10100     \n",
      "_________________________________________________________________\n",
      "dense_13 (Dense)             (None, 100)               10100     \n",
      "_________________________________________________________________\n",
      "dense_14 (Dense)             (None, 3)                 303       \n",
      "=================================================================\n",
      "Total params: 20,803\n",
      "Trainable params: 20,803\n",
      "Non-trainable params: 0\n",
      "_________________________________________________________________\n"
     ]
    }
   ],
   "source": [
    "network = neural_net(X0, Y0, topology=[2, 100, 100, 3], lr=0.001, epochs=100)"
   ]
  },
  {
   "cell_type": "code",
   "execution_count": 26,
   "metadata": {},
   "outputs": [
    {
     "name": "stdout",
     "output_type": "stream",
     "text": [
      "Entrenando, por favor, espera...\n",
      "¡Entrenamiento terminado!\n"
     ]
    },
    {
     "data": {
      "image/png": "[encoded data removed]",
      "text/plain": [
       "<Figure size 432x288 with 1 Axes>"
      ]
     },
     "metadata": {
      "needs_background": "light"
     },
     "output_type": "display_data"
    }
   ],
   "source": [
    "network.train()\n",
    "network.plot()"
   ]
  },
  {
   "cell_type": "code",
   "execution_count": 27,
   "metadata": {},
   "outputs": [
    {
     "data": {
      "text/plain": [
       "[<matplotlib.lines.Line2D at 0x7fb710337ee0>,\n",
       " <matplotlib.lines.Line2D at 0x7fb710337fd0>,\n",
       " <matplotlib.lines.Line2D at 0x7fb7103410d0>]"
      ]
     },
     "execution_count": 27,
     "metadata": {},
     "output_type": "execute_result"
    },
    {
     "data": {
      "image/png": "[encoded data removed]",
      "text/plain": [
       "<Figure size 432x288 with 1 Axes>"
      ]
     },
     "metadata": {
      "needs_background": "light"
     },
     "output_type": "display_data"
    }
   ],
   "source": [
    "Z=np.linspace(0,-12,50)\n",
    "dom=[]\n",
    "dom2=[]\n",
    "dom3=[]\n",
    "\n",
    "for z in Z: dom.append([z,0.1]) \n",
    "A=network.predict(dom)\n",
    "\n",
    "for z in Z: dom2.append([z,0.3]) \n",
    "B=network.predict(dom2)\n",
    "\n",
    "for z in Z: dom3.append([z,0.9]) \n",
    "C=network.predict(dom3)\n",
    "\n",
    "plt.plot(Z,EDO(Z, 0.1),color='darkblue')\n",
    "plt.plot(Z,A,color='darkred')\n",
    "plt.plot(Z,B,color='green')\n",
    "# plt.plot(Z,C,color='"
   ]
  },
  {
   "cell_type": "markdown",
   "metadata": {},
   "source": [
    "# Nota: Las redes neuronales pueden hacer tareas de regresión o clasificación.\n",
    "\n",
    "### -> Ejercicio 7 (Opcional)\n",
    "\n",
    "Utilizar los datos completos del SDSS utilizados en la Notebook 1, para clasificar galaxias, cuásares y estrellas. "
   ]
  },
  {
   "cell_type": "code",
   "execution_count": 133,
   "metadata": {},
   "outputs": [
    {
     "data": {
      "text/plain": [
       "<AxesSubplot:xlabel='ra', ylabel='redshift'>"
      ]
     },
     "execution_count": 133,
     "metadata": {},
     "output_type": "execute_result"
    },
    {
     "data": {
      "image/png": "[encoded data removed]",
      "text/plain": [
       "<Figure size 432x288 with 1 Axes>"
      ]
     },
     "metadata": {
      "needs_background": "light"
     },
     "output_type": "display_data"
    }
   ],
   "source": [
    "data_dr14 = pd.read_csv('https://raw.githubusercontent.com/igomezv/MACS_2021_ML_basics_neural_networks/main/data/Skyserver_SQL2_27_2018%206_51_39%20PM.csv')\n",
    "sns.scatterplot(x=\"ra\", y=\"redshift\", data=data_dr14, hue=\"class\")"
   ]
  },
  {
   "cell_type": "code",
   "execution_count": 134,
   "metadata": {
    "scrolled": true
   },
   "outputs": [
    {
     "data": {
      "text/html": [
       "<div>\n",
       "<style scoped>\n",
       "    .dataframe tbody tr th:only-of-type {\n",
       "        vertical-align: middle;\n",
       "    }\n",
       "\n",
       "    .dataframe tbody tr th {\n",
       "        vertical-align: top;\n",
       "    }\n",
       "\n",
       "    .dataframe thead th {\n",
       "        text-align: right;\n",
       "    }\n",
       "</style>\n",
       "<table border=\"1\" class=\"dataframe\">\n",
       "  <thead>\n",
       "    <tr style=\"text-align: right;\">\n",
       "      <th></th>\n",
       "      <th>objid</th>\n",
       "      <th>ra</th>\n",
       "      <th>dec</th>\n",
       "      <th>u</th>\n",
       "      <th>g</th>\n",
       "      <th>r</th>\n",
       "      <th>i</th>\n",
       "      <th>z</th>\n",
       "      <th>run</th>\n",
       "      <th>rerun</th>\n",
       "      <th>camcol</th>\n",
       "      <th>field</th>\n",
       "      <th>specobjid</th>\n",
       "      <th>class</th>\n",
       "      <th>redshift</th>\n",
       "      <th>plate</th>\n",
       "      <th>mjd</th>\n",
       "      <th>fiberid</th>\n",
       "    </tr>\n",
       "  </thead>\n",
       "  <tbody>\n",
       "    <tr>\n",
       "      <th>0</th>\n",
       "      <td>1.237650e+18</td>\n",
       "      <td>183.531326</td>\n",
       "      <td>0.089693</td>\n",
       "      <td>19.47406</td>\n",
       "      <td>17.04240</td>\n",
       "      <td>15.94699</td>\n",
       "      <td>15.50342</td>\n",
       "      <td>15.22531</td>\n",
       "      <td>752</td>\n",
       "      <td>301</td>\n",
       "      <td>4</td>\n",
       "      <td>267</td>\n",
       "      <td>3.722360e+18</td>\n",
       "      <td>STAR</td>\n",
       "      <td>-0.000009</td>\n",
       "      <td>3306</td>\n",
       "      <td>54922</td>\n",
       "      <td>491</td>\n",
       "    </tr>\n",
       "    <tr>\n",
       "      <th>1</th>\n",
       "      <td>1.237650e+18</td>\n",
       "      <td>183.598370</td>\n",
       "      <td>0.135285</td>\n",
       "      <td>18.66280</td>\n",
       "      <td>17.21449</td>\n",
       "      <td>16.67637</td>\n",
       "      <td>16.48922</td>\n",
       "      <td>16.39150</td>\n",
       "      <td>752</td>\n",
       "      <td>301</td>\n",
       "      <td>4</td>\n",
       "      <td>267</td>\n",
       "      <td>3.638140e+17</td>\n",
       "      <td>STAR</td>\n",
       "      <td>-0.000055</td>\n",
       "      <td>323</td>\n",
       "      <td>51615</td>\n",
       "      <td>541</td>\n",
       "    </tr>\n",
       "    <tr>\n",
       "      <th>2</th>\n",
       "      <td>1.237650e+18</td>\n",
       "      <td>183.680207</td>\n",
       "      <td>0.126185</td>\n",
       "      <td>19.38298</td>\n",
       "      <td>18.19169</td>\n",
       "      <td>17.47428</td>\n",
       "      <td>17.08732</td>\n",
       "      <td>16.80125</td>\n",
       "      <td>752</td>\n",
       "      <td>301</td>\n",
       "      <td>4</td>\n",
       "      <td>268</td>\n",
       "      <td>3.232740e+17</td>\n",
       "      <td>GALAXY</td>\n",
       "      <td>0.123111</td>\n",
       "      <td>287</td>\n",
       "      <td>52023</td>\n",
       "      <td>513</td>\n",
       "    </tr>\n",
       "    <tr>\n",
       "      <th>3</th>\n",
       "      <td>1.237650e+18</td>\n",
       "      <td>183.870529</td>\n",
       "      <td>0.049911</td>\n",
       "      <td>17.76536</td>\n",
       "      <td>16.60272</td>\n",
       "      <td>16.16116</td>\n",
       "      <td>15.98233</td>\n",
       "      <td>15.90438</td>\n",
       "      <td>752</td>\n",
       "      <td>301</td>\n",
       "      <td>4</td>\n",
       "      <td>269</td>\n",
       "      <td>3.722370e+18</td>\n",
       "      <td>STAR</td>\n",
       "      <td>-0.000111</td>\n",
       "      <td>3306</td>\n",
       "      <td>54922</td>\n",
       "      <td>510</td>\n",
       "    </tr>\n",
       "    <tr>\n",
       "      <th>4</th>\n",
       "      <td>1.237650e+18</td>\n",
       "      <td>183.883288</td>\n",
       "      <td>0.102557</td>\n",
       "      <td>17.55025</td>\n",
       "      <td>16.26342</td>\n",
       "      <td>16.43869</td>\n",
       "      <td>16.55492</td>\n",
       "      <td>16.61326</td>\n",
       "      <td>752</td>\n",
       "      <td>301</td>\n",
       "      <td>4</td>\n",
       "      <td>269</td>\n",
       "      <td>3.722370e+18</td>\n",
       "      <td>STAR</td>\n",
       "      <td>0.000590</td>\n",
       "      <td>3306</td>\n",
       "      <td>54922</td>\n",
       "      <td>512</td>\n",
       "    </tr>\n",
       "  </tbody>\n",
       "</table>\n",
       "</div>"
      ],
      "text/plain": [
       "          objid          ra       dec         u         g         r         i  \\\n",
       "0  1.237650e+18  183.531326  0.089693  19.47406  17.04240  15.94699  15.50342   \n",
       "1  1.237650e+18  183.598370  0.135285  18.66280  17.21449  16.67637  16.48922   \n",
       "2  1.237650e+18  183.680207  0.126185  19.38298  18.19169  17.47428  17.08732   \n",
       "3  1.237650e+18  183.870529  0.049911  17.76536  16.60272  16.16116  15.98233   \n",
       "4  1.237650e+18  183.883288  0.102557  17.55025  16.26342  16.43869  16.55492   \n",
       "\n",
       "          z  run  rerun  camcol  field     specobjid   class  redshift  plate  \\\n",
       "0  15.22531  752    301       4    267  3.722360e+18    STAR -0.000009   3306   \n",
       "1  16.39150  752    301       4    267  3.638140e+17    STAR -0.000055    323   \n",
       "2  16.80125  752    301       4    268  3.232740e+17  GALAXY  0.123111    287   \n",
       "3  15.90438  752    301       4    269  3.722370e+18    STAR -0.000111   3306   \n",
       "4  16.61326  752    301       4    269  3.722370e+18    STAR  0.000590   3306   \n",
       "\n",
       "     mjd  fiberid  \n",
       "0  54922      491  \n",
       "1  51615      541  \n",
       "2  52023      513  \n",
       "3  54922      510  \n",
       "4  54922      512  "
      ]
     },
     "execution_count": 134,
     "metadata": {},
     "output_type": "execute_result"
    }
   ],
   "source": [
    "data_dr14.head()"
   ]
  },
  {
   "cell_type": "markdown",
   "metadata": {},
   "source": [
    "### Preprocesamiento"
   ]
  },
  {
   "cell_type": "code",
   "execution_count": 135,
   "metadata": {},
   "outputs": [
    {
     "data": {
      "text/html": [
       "<div>\n",
       "<style scoped>\n",
       "    .dataframe tbody tr th:only-of-type {\n",
       "        vertical-align: middle;\n",
       "    }\n",
       "\n",
       "    .dataframe tbody tr th {\n",
       "        vertical-align: top;\n",
       "    }\n",
       "\n",
       "    .dataframe thead th {\n",
       "        text-align: right;\n",
       "    }\n",
       "</style>\n",
       "<table border=\"1\" class=\"dataframe\">\n",
       "  <thead>\n",
       "    <tr style=\"text-align: right;\">\n",
       "      <th></th>\n",
       "      <th>objid</th>\n",
       "      <th>ra</th>\n",
       "      <th>dec</th>\n",
       "      <th>u</th>\n",
       "      <th>g</th>\n",
       "      <th>r</th>\n",
       "      <th>i</th>\n",
       "      <th>z</th>\n",
       "      <th>run</th>\n",
       "      <th>rerun</th>\n",
       "      <th>camcol</th>\n",
       "      <th>field</th>\n",
       "      <th>specobjid</th>\n",
       "      <th>class</th>\n",
       "      <th>redshift</th>\n",
       "      <th>plate</th>\n",
       "      <th>mjd</th>\n",
       "      <th>fiberid</th>\n",
       "      <th>class_num</th>\n",
       "    </tr>\n",
       "  </thead>\n",
       "  <tbody>\n",
       "    <tr>\n",
       "      <th>0</th>\n",
       "      <td>1.237650e+18</td>\n",
       "      <td>183.531326</td>\n",
       "      <td>0.089693</td>\n",
       "      <td>19.47406</td>\n",
       "      <td>17.04240</td>\n",
       "      <td>15.94699</td>\n",
       "      <td>15.50342</td>\n",
       "      <td>15.22531</td>\n",
       "      <td>752</td>\n",
       "      <td>301</td>\n",
       "      <td>4</td>\n",
       "      <td>267</td>\n",
       "      <td>3.722360e+18</td>\n",
       "      <td>STAR</td>\n",
       "      <td>-0.000009</td>\n",
       "      <td>3306</td>\n",
       "      <td>54922</td>\n",
       "      <td>491</td>\n",
       "      <td>2</td>\n",
       "    </tr>\n",
       "    <tr>\n",
       "      <th>1</th>\n",
       "      <td>1.237650e+18</td>\n",
       "      <td>183.598370</td>\n",
       "      <td>0.135285</td>\n",
       "      <td>18.66280</td>\n",
       "      <td>17.21449</td>\n",
       "      <td>16.67637</td>\n",
       "      <td>16.48922</td>\n",
       "      <td>16.39150</td>\n",
       "      <td>752</td>\n",
       "      <td>301</td>\n",
       "      <td>4</td>\n",
       "      <td>267</td>\n",
       "      <td>3.638140e+17</td>\n",
       "      <td>STAR</td>\n",
       "      <td>-0.000055</td>\n",
       "      <td>323</td>\n",
       "      <td>51615</td>\n",
       "      <td>541</td>\n",
       "      <td>2</td>\n",
       "    </tr>\n",
       "    <tr>\n",
       "      <th>2</th>\n",
       "      <td>1.237650e+18</td>\n",
       "      <td>183.680207</td>\n",
       "      <td>0.126185</td>\n",
       "      <td>19.38298</td>\n",
       "      <td>18.19169</td>\n",
       "      <td>17.47428</td>\n",
       "      <td>17.08732</td>\n",
       "      <td>16.80125</td>\n",
       "      <td>752</td>\n",
       "      <td>301</td>\n",
       "      <td>4</td>\n",
       "      <td>268</td>\n",
       "      <td>3.232740e+17</td>\n",
       "      <td>GALAXY</td>\n",
       "      <td>0.123111</td>\n",
       "      <td>287</td>\n",
       "      <td>52023</td>\n",
       "      <td>513</td>\n",
       "      <td>0</td>\n",
       "    </tr>\n",
       "    <tr>\n",
       "      <th>3</th>\n",
       "      <td>1.237650e+18</td>\n",
       "      <td>183.870529</td>\n",
       "      <td>0.049911</td>\n",
       "      <td>17.76536</td>\n",
       "      <td>16.60272</td>\n",
       "      <td>16.16116</td>\n",
       "      <td>15.98233</td>\n",
       "      <td>15.90438</td>\n",
       "      <td>752</td>\n",
       "      <td>301</td>\n",
       "      <td>4</td>\n",
       "      <td>269</td>\n",
       "      <td>3.722370e+18</td>\n",
       "      <td>STAR</td>\n",
       "      <td>-0.000111</td>\n",
       "      <td>3306</td>\n",
       "      <td>54922</td>\n",
       "      <td>510</td>\n",
       "      <td>2</td>\n",
       "    </tr>\n",
       "    <tr>\n",
       "      <th>4</th>\n",
       "      <td>1.237650e+18</td>\n",
       "      <td>183.883288</td>\n",
       "      <td>0.102557</td>\n",
       "      <td>17.55025</td>\n",
       "      <td>16.26342</td>\n",
       "      <td>16.43869</td>\n",
       "      <td>16.55492</td>\n",
       "      <td>16.61326</td>\n",
       "      <td>752</td>\n",
       "      <td>301</td>\n",
       "      <td>4</td>\n",
       "      <td>269</td>\n",
       "      <td>3.722370e+18</td>\n",
       "      <td>STAR</td>\n",
       "      <td>0.000590</td>\n",
       "      <td>3306</td>\n",
       "      <td>54922</td>\n",
       "      <td>512</td>\n",
       "      <td>2</td>\n",
       "    </tr>\n",
       "  </tbody>\n",
       "</table>\n",
       "</div>"
      ],
      "text/plain": [
       "          objid          ra       dec         u         g         r         i  \\\n",
       "0  1.237650e+18  183.531326  0.089693  19.47406  17.04240  15.94699  15.50342   \n",
       "1  1.237650e+18  183.598370  0.135285  18.66280  17.21449  16.67637  16.48922   \n",
       "2  1.237650e+18  183.680207  0.126185  19.38298  18.19169  17.47428  17.08732   \n",
       "3  1.237650e+18  183.870529  0.049911  17.76536  16.60272  16.16116  15.98233   \n",
       "4  1.237650e+18  183.883288  0.102557  17.55025  16.26342  16.43869  16.55492   \n",
       "\n",
       "          z  run  rerun  camcol  field     specobjid   class  redshift  plate  \\\n",
       "0  15.22531  752    301       4    267  3.722360e+18    STAR -0.000009   3306   \n",
       "1  16.39150  752    301       4    267  3.638140e+17    STAR -0.000055    323   \n",
       "2  16.80125  752    301       4    268  3.232740e+17  GALAXY  0.123111    287   \n",
       "3  15.90438  752    301       4    269  3.722370e+18    STAR -0.000111   3306   \n",
       "4  16.61326  752    301       4    269  3.722370e+18    STAR  0.000590   3306   \n",
       "\n",
       "     mjd  fiberid  class_num  \n",
       "0  54922      491          2  \n",
       "1  51615      541          2  \n",
       "2  52023      513          0  \n",
       "3  54922      510          2  \n",
       "4  54922      512          2  "
      ]
     },
     "execution_count": 135,
     "metadata": {},
     "output_type": "execute_result"
    }
   ],
   "source": [
    "data_dr14[\"class\"] = data_dr14[\"class\"].astype('category')\n",
    "data_dr14[\"class_num\"] = data_dr14[\"class\"].cat.codes\n",
    "data_dr14.head()\n"
   ]
  },
  {
   "cell_type": "code",
   "execution_count": 136,
   "metadata": {},
   "outputs": [
    {
     "data": {
      "text/html": [
       "<div>\n",
       "<style scoped>\n",
       "    .dataframe tbody tr th:only-of-type {\n",
       "        vertical-align: middle;\n",
       "    }\n",
       "\n",
       "    .dataframe tbody tr th {\n",
       "        vertical-align: top;\n",
       "    }\n",
       "\n",
       "    .dataframe thead th {\n",
       "        text-align: right;\n",
       "    }\n",
       "</style>\n",
       "<table border=\"1\" class=\"dataframe\">\n",
       "  <thead>\n",
       "    <tr style=\"text-align: right;\">\n",
       "      <th></th>\n",
       "      <th>ra</th>\n",
       "      <th>dec</th>\n",
       "      <th>redshift</th>\n",
       "    </tr>\n",
       "  </thead>\n",
       "  <tbody>\n",
       "    <tr>\n",
       "      <th>0</th>\n",
       "      <td>183.531326</td>\n",
       "      <td>0.089693</td>\n",
       "      <td>-0.000009</td>\n",
       "    </tr>\n",
       "    <tr>\n",
       "      <th>1</th>\n",
       "      <td>183.598370</td>\n",
       "      <td>0.135285</td>\n",
       "      <td>-0.000055</td>\n",
       "    </tr>\n",
       "    <tr>\n",
       "      <th>2</th>\n",
       "      <td>183.680207</td>\n",
       "      <td>0.126185</td>\n",
       "      <td>0.123111</td>\n",
       "    </tr>\n",
       "    <tr>\n",
       "      <th>3</th>\n",
       "      <td>183.870529</td>\n",
       "      <td>0.049911</td>\n",
       "      <td>-0.000111</td>\n",
       "    </tr>\n",
       "    <tr>\n",
       "      <th>4</th>\n",
       "      <td>183.883288</td>\n",
       "      <td>0.102557</td>\n",
       "      <td>0.000590</td>\n",
       "    </tr>\n",
       "  </tbody>\n",
       "</table>\n",
       "</div>"
      ],
      "text/plain": [
       "           ra       dec  redshift\n",
       "0  183.531326  0.089693 -0.000009\n",
       "1  183.598370  0.135285 -0.000055\n",
       "2  183.680207  0.126185  0.123111\n",
       "3  183.870529  0.049911 -0.000111\n",
       "4  183.883288  0.102557  0.000590"
      ]
     },
     "execution_count": 136,
     "metadata": {},
     "output_type": "execute_result"
    }
   ],
   "source": [
    "X = data_dr14[['ra','dec','redshift']]\n",
    "Y = data_dr14[['class_num']]\n",
    "X.head()\n",
    "# star 2, galaxy 0, quasar 1"
   ]
  },
  {
   "cell_type": "code",
   "execution_count": 137,
   "metadata": {},
   "outputs": [
    {
     "data": {
      "text/html": [
       "<div>\n",
       "<style scoped>\n",
       "    .dataframe tbody tr th:only-of-type {\n",
       "        vertical-align: middle;\n",
       "    }\n",
       "\n",
       "    .dataframe tbody tr th {\n",
       "        vertical-align: top;\n",
       "    }\n",
       "\n",
       "    .dataframe thead th {\n",
       "        text-align: right;\n",
       "    }\n",
       "</style>\n",
       "<table border=\"1\" class=\"dataframe\">\n",
       "  <thead>\n",
       "    <tr style=\"text-align: right;\">\n",
       "      <th></th>\n",
       "      <th>class_num</th>\n",
       "    </tr>\n",
       "  </thead>\n",
       "  <tbody>\n",
       "    <tr>\n",
       "      <th>0</th>\n",
       "      <td>2</td>\n",
       "    </tr>\n",
       "    <tr>\n",
       "      <th>1</th>\n",
       "      <td>2</td>\n",
       "    </tr>\n",
       "    <tr>\n",
       "      <th>2</th>\n",
       "      <td>0</td>\n",
       "    </tr>\n",
       "    <tr>\n",
       "      <th>3</th>\n",
       "      <td>2</td>\n",
       "    </tr>\n",
       "    <tr>\n",
       "      <th>4</th>\n",
       "      <td>2</td>\n",
       "    </tr>\n",
       "  </tbody>\n",
       "</table>\n",
       "</div>"
      ],
      "text/plain": [
       "   class_num\n",
       "0          2\n",
       "1          2\n",
       "2          0\n",
       "3          2\n",
       "4          2"
      ]
     },
     "execution_count": 137,
     "metadata": {},
     "output_type": "execute_result"
    }
   ],
   "source": [
    "Y.head()"
   ]
  },
  {
   "cell_type": "markdown",
   "metadata": {},
   "source": [
    "#### Convertir dataframes a numpy.arrays"
   ]
  },
  {
   "cell_type": "code",
   "execution_count": 138,
   "metadata": {},
   "outputs": [],
   "source": [
    "X = X.values\n",
    "Y = Y.values\n",
    "X0 = X[:2000,:]\n",
    "y = Y[:2000]\n",
    "# y = y[:500]\n",
    "# X = X[:500, :]"
   ]
  },
  {
   "cell_type": "markdown",
   "metadata": {},
   "source": [
    "### Diseñar red neuronal"
   ]
  },
  {
   "cell_type": "code",
   "execution_count": 139,
   "metadata": {},
   "outputs": [
    {
     "name": "stdout",
     "output_type": "stream",
     "text": [
      "Model: \"sequential_24\"\n",
      "_________________________________________________________________\n",
      "Layer (type)                 Output Shape              Param #   \n",
      "=================================================================\n",
      "dense_116 (Dense)            (None, 100)               400       \n",
      "_________________________________________________________________\n",
      "dense_117 (Dense)            (None, 100)               10100     \n",
      "_________________________________________________________________\n",
      "dense_118 (Dense)            (None, 100)               10100     \n",
      "_________________________________________________________________\n",
      "dense_119 (Dense)            (None, 100)               10100     \n",
      "_________________________________________________________________\n",
      "dense_120 (Dense)            (None, 100)               10100     \n",
      "_________________________________________________________________\n",
      "dense_121 (Dense)            (None, 100)               10100     \n",
      "_________________________________________________________________\n",
      "dense_122 (Dense)            (None, 1)                 101       \n",
      "=================================================================\n",
      "Total params: 51,001\n",
      "Trainable params: 51,001\n",
      "Non-trainable params: 0\n",
      "_________________________________________________________________\n"
     ]
    }
   ],
   "source": [
    "network = neural_net(X0, y, topology=[3, 100, 100, 100, 100, 100, 1], lr=1e-5, epochs=100)"
   ]
  },
  {
   "cell_type": "markdown",
   "metadata": {},
   "source": [
    "### Entrenar y evaluar rendimiento de la red neuronal"
   ]
  },
  {
   "cell_type": "code",
   "execution_count": 140,
   "metadata": {},
   "outputs": [
    {
     "name": "stdout",
     "output_type": "stream",
     "text": [
      "Entrenando, por favor, espera...\n",
      "¡Entrenamiento terminado!\n"
     ]
    },
    {
     "data": {
      "image/png": "[encoded data removed]",
      "text/plain": [
       "<Figure size 432x288 with 1 Axes>"
      ]
     },
     "metadata": {
      "needs_background": "light"
     },
     "output_type": "display_data"
    }
   ],
   "source": [
    "network.train()\n",
    "network.plot()"
   ]
  },
  {
   "cell_type": "code",
   "execution_count": 144,
   "metadata": {},
   "outputs": [
    {
     "name": "stdout",
     "output_type": "stream",
     "text": [
      "(1, 3)\n"
     ]
    },
    {
     "data": {
      "text/plain": [
       "array([[0.86929345]], dtype=float32)"
      ]
     },
     "execution_count": 144,
     "metadata": {},
     "output_type": "execute_result"
    }
   ],
   "source": [
    "test_vector = np.array([200, 0.09, -0.01]).reshape(1,3)\n",
    "print(np.shape(test_vector))\n",
    "# galaxy 0, quasar 1, star 2\n",
    "network.predict(test_vector)"
   ]
  },
  {
   "cell_type": "markdown",
   "metadata": {},
   "source": [
    "----------------------\n",
    "\n",
    "## Comentarios\n",
    "\n",
    "- Para problemas numéricos hay que ser muy cuidadosos con la elección de la arquitectura de la red, sus errores y conocer los datos de antemano.\n",
    "\n",
    "- El ajuste de hiperpárametros y el entrenamiento de la red pueden ser procesos muy lentos.\n",
    "\n",
    "- Para ciertos problemas no-lineales las redes neuronales pueden generar un modelo aceptable un buen modelo basado en los datos.\n",
    "\n",
    "## Referencias:\n",
    "\n",
    "- https://keras.io/\n",
    "\n",
    "- https://igomezv.github.io/2020-10-09-intro-neural/\n",
    "\n",
    "- Gómez-Vargas, I., Vázquez, J. A., Esquivel, R. M., & García-Salcedo, R. (2021). Cosmological Reconstructions with Artificial Neural Networks. arXiv preprint arXiv:2104.00595.\n",
    "\n",
    "- Gómez-Vargas, I., Esquivel, R. M., García-Salcedo, R., & Vázquez, J. A. (2021). Neural network within a Bayesian inference framework. In Journal of Physics: Conference Series (Vol. 1723, No. 1, p. 012022). IOP Publishing.\n",
    "\n",
    "- Vázquez, J. A., Esquivel, R. M., & Gómez-Vargas, I. (2021). Cosmologıa observacional con Redes Neuronales Artificiales. Esta edición fue preparada por el Instituto de Física y el Instituto de Ciencias Físicas de la UNAM., 89.\n"
   ]
  },
  {
   "cell_type": "code",
   "execution_count": null,
   "metadata": {},
   "outputs": [],
   "source": []
  }
 ],
 "metadata": {
  "kernelspec": {
   "display_name": "Python 3",
   "language": "python",
   "name": "python3"
  },
  "language_info": {
   "codemirror_mode": {
    "name": "ipython",
    "version": 3
   },
   "file_extension": ".py",
   "mimetype": "text/x-python",
   "name": "python",
   "nbconvert_exporter": "python",
   "pygments_lexer": "ipython3",
   "version": "3.8.5"
  }
 },
 "nbformat": 4,
 "nbformat_minor": 2
}
